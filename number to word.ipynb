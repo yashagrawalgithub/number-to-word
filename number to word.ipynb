{
 "cells": [
  {
   "cell_type": "code",
   "execution_count": 7,
   "metadata": {},
   "outputs": [
    {
     "name": "stdout",
     "output_type": "stream",
     "text": [
      "9901\n",
      "nine thousand nine hundred and one\n"
     ]
    }
   ],
   "source": [
    "d1={0:'zero',1:'one',2:'two',3:'three',4:'four',5:'five',6:'six',7:'seven',8:'eight',9:'nine'}\n",
    "d2={10:'ten',11:'eleven',12:'twelve',13:'thirteen',14:'fourteen',15:'fifteen',16:'sixteen',17:'seventeen',18:'eighteen',19:'nineteen'}\n",
    "d3={2:'twenty',3:'thirty',4:'fourty',5:'fifty',6:'sixty',7:'seventy',8:'eighty',9:'ninety'}\n",
    "def thousand(s):\n",
    "    if(s[1:]=='000'):\n",
    "        print(d1[int(s[0])],'thousand ',end='')\n",
    "        stop()\n",
    "    else:\n",
    "        print(d1[int(s[0])],'thousand ',end='')\n",
    "        hundred(s[1:])\n",
    "def hundred(s):\n",
    "    if(s[1:]=='00'):\n",
    "        print(d1[int(s[0])],'hundred ',end='')\n",
    "        stop()\n",
    "    else:\n",
    "        print(d1[int(s[0])],'hundred and ',end='')\n",
    "        last2(s[1:])\n",
    "def last2(s):\n",
    "    if(s[0]=='0'):\n",
    "        print(d1[int(s[1])])\n",
    "    elif(s[0]=='1'):\n",
    "        print(d2[int(s[0:])])\n",
    "    elif(s[1]=='0'):\n",
    "        print(d3[int(s[0])])\n",
    "    else:\n",
    "        print(d3[int(s[0])],d1[int(s[1])])\n",
    "def stop():\n",
    "    pass\n",
    "s=input()\n",
    "l=len(s)\n",
    "if(l==4):\n",
    "    thousand(s)\n",
    "if(l==3):\n",
    "    hundred(s)\n",
    "if(l==2):\n",
    "    last2(s)\n",
    "if(l==1):\n",
    "    print(d1[int(s)])"
   ]
  },
  {
   "cell_type": "code",
   "execution_count": null,
   "metadata": {},
   "outputs": [],
   "source": []
  }
 ],
 "metadata": {
  "kernelspec": {
   "display_name": "Python 3",
   "language": "python",
   "name": "python3"
  },
  "language_info": {
   "codemirror_mode": {
    "name": "ipython",
    "version": 3
   },
   "file_extension": ".py",
   "mimetype": "text/x-python",
   "name": "python",
   "nbconvert_exporter": "python",
   "pygments_lexer": "ipython3",
   "version": "3.7.6"
  }
 },
 "nbformat": 4,
 "nbformat_minor": 4
}
